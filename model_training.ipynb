{
  "nbformat": 4,
  "nbformat_minor": 0,
  "metadata": {
    "colab": {
      "provenance": []
    },
    "kernelspec": {
      "name": "python3",
      "display_name": "Python 3"
    },
    "language_info": {
      "name": "python"
    }
  },
  "cells": [
    {
      "cell_type": "code",
      "execution_count": 1,
      "metadata": {
        "id": "11rUjwwA9zqv"
      },
      "outputs": [],
      "source": [
        "from google.colab import drive"
      ]
    },
    {
      "cell_type": "code",
      "source": [
        "drive.mount('/content/drive')"
      ],
      "metadata": {
        "colab": {
          "base_uri": "https://localhost:8080/"
        },
        "id": "dbV8Ifzxsvh9",
        "outputId": "50e64a02-5a8b-43ee-fe83-89bcce3f05a6"
      },
      "execution_count": 2,
      "outputs": [
        {
          "output_type": "stream",
          "name": "stdout",
          "text": [
            "Drive already mounted at /content/drive; to attempt to forcibly remount, call drive.mount(\"/content/drive\", force_remount=True).\n"
          ]
        }
      ]
    },
    {
      "cell_type": "code",
      "source": [
        "file_path = '/content/drive/My Drive/Colab Notebooks/cleaned_training_data.csv'  ##cleaned training dataset"
      ],
      "metadata": {
        "id": "mHrYj-yXsvkh"
      },
      "execution_count": 3,
      "outputs": []
    },
    {
      "cell_type": "code",
      "source": [
        "import pandas as pd\n",
        "import numpy as np\n",
        "import matplotlib.pyplot as plt\n",
        "import seaborn as sns"
      ],
      "metadata": {
        "id": "gexsJcbYtEA3"
      },
      "execution_count": 4,
      "outputs": []
    },
    {
      "cell_type": "code",
      "source": [
        "import torch\n",
        "import torch.nn as nn\n",
        "import torch.optim as optim\n",
        "from sklearn.model_selection import train_test_split\n",
        "from sklearn.preprocessing import StandardScaler\n",
        "from sklearn.metrics import accuracy_score"
      ],
      "metadata": {
        "id": "PKT6LEJytFLL"
      },
      "execution_count": 5,
      "outputs": []
    },
    {
      "cell_type": "code",
      "source": [
        "from imblearn.over_sampling import SMOTE"
      ],
      "metadata": {
        "id": "IrogZzL_Vzhe"
      },
      "execution_count": 6,
      "outputs": []
    },
    {
      "cell_type": "code",
      "source": [
        "data = pd.read_csv(file_path,  header=0)"
      ],
      "metadata": {
        "id": "REP43TAiZOBn"
      },
      "execution_count": 7,
      "outputs": []
    },
    {
      "cell_type": "code",
      "source": [
        "data.columns"
      ],
      "metadata": {
        "colab": {
          "base_uri": "https://localhost:8080/"
        },
        "id": "D3YUimMTKi35",
        "outputId": "796eb48e-09cc-4a55-e2af-1aa80e8b2aae"
      },
      "execution_count": 8,
      "outputs": [
        {
          "output_type": "execute_result",
          "data": {
            "text/plain": [
              "Index(['term', 'int_rate', 'emp_length', 'annual_inc', 'percent_bc_gt_75',\n",
              "       'dti', 'inq_last_6mths', 'mths_since_recent_inq', 'revol_util',\n",
              "       'total_bc_limit', 'tot_cur_bal', 'internal_score', 'bad_flag',\n",
              "       'purpose_car', 'purpose_credit_card', 'purpose_debt_consolidation',\n",
              "       'purpose_home_improvement', 'purpose_house', 'purpose_major_purchase',\n",
              "       'purpose_medical', 'purpose_moving', 'purpose_other',\n",
              "       'purpose_renewable_energy', 'purpose_small_business',\n",
              "       'purpose_vacation', 'purpose_wedding', 'home_ownership_MORTGAGE',\n",
              "       'home_ownership_OTHER', 'home_ownership_OWN', 'home_ownership_RENT'],\n",
              "      dtype='object')"
            ]
          },
          "metadata": {},
          "execution_count": 8
        }
      ]
    },
    {
      "cell_type": "code",
      "source": [
        "y = data['bad_flag'].astype(float)\n",
        "X = data.drop(columns=['bad_flag'])"
      ],
      "metadata": {
        "id": "lBkMZSGQwhj8"
      },
      "execution_count": 9,
      "outputs": []
    },
    {
      "cell_type": "markdown",
      "source": [
        "## split the dataset into traing, validation and test part"
      ],
      "metadata": {
        "id": "CF8xE7Rk7B_s"
      }
    },
    {
      "cell_type": "code",
      "source": [
        "X_train, X_test, y_train, y_test = train_test_split(\n",
        "    X, y, stratify=y, test_size=0.10, random_state=1000\n",
        ")"
      ],
      "metadata": {
        "id": "pM3O-ebSzBT-"
      },
      "execution_count": 10,
      "outputs": []
    },
    {
      "cell_type": "code",
      "source": [
        "X_t, X_val, y_t, y_val = train_test_split(\n",
        "    X_train, y_train, stratify=y_train, test_size=0.20, random_state=1000\n",
        ")"
      ],
      "metadata": {
        "id": "raaAFJ2vzMws"
      },
      "execution_count": 11,
      "outputs": []
    },
    {
      "cell_type": "code",
      "source": [
        "from sklearn.utils import resample\n",
        "\n",
        "train_data = pd.concat([X_t, y_t], axis=1)\n",
        "\n",
        "# Separate majority and minority classes\n",
        "majority_class = train_data[train_data['bad_flag'] == 0]\n",
        "minority_class = train_data[train_data['bad_flag'] == 1]\n",
        "\n",
        "# Determine the target size for the majority class\n",
        "majority_target_size = len(minority_class) * 5  # Set to *1 for equal size\n",
        "\n",
        "# Subsample majority class\n",
        "majority_class_downsampled = resample(\n",
        "    majority_class,\n",
        "    replace=False,\n",
        "    n_samples=majority_target_size,\n",
        "    random_state=42\n",
        ")\n",
        "\n",
        "# Combine the subsampled majority class with the minority class\n",
        "balanced_data = pd.concat([majority_class_downsampled, minority_class])\n",
        "\n",
        "# Shuffle the combined dataset\n",
        "balanced_data = balanced_data.sample(frac=1, random_state=42).reset_index(drop=True)\n",
        "\n",
        "# Split back into features and target\n",
        "X_train_balanced = balanced_data.drop(columns=['bad_flag'])\n",
        "y_train_balanced = balanced_data['bad_flag']"
      ],
      "metadata": {
        "id": "lGPkhFb5i9vq"
      },
      "execution_count": 12,
      "outputs": []
    },
    {
      "cell_type": "markdown",
      "source": [
        "### I tried both oversmaple with smote and subsample, the results shows both have low precision and F1 score, but subsample method has higher recall, finally I use subsample"
      ],
      "metadata": {
        "id": "nuZJDBqT7Tnw"
      }
    },
    {
      "cell_type": "code",
      "source": [
        "# smote = SMOTE(sampling_strategy=0.1, random_state=42)\n",
        "# X_train_smote, y_train_smote = smote.fit_resample(X_t, y_t)"
      ],
      "metadata": {
        "id": "O8nXb8ZBirnn"
      },
      "execution_count": 11,
      "outputs": []
    },
    {
      "cell_type": "code",
      "source": [
        "X_train_smote, y_train_smote = X_train_balanced, y_train_balanced"
      ],
      "metadata": {
        "id": "Fy3btBrnJRsT"
      },
      "execution_count": 13,
      "outputs": []
    },
    {
      "cell_type": "code",
      "source": [
        "numer = ['term', 'int_rate', 'emp_length', 'annual_inc', 'percent_bc_gt_75',\n",
        "        'dti', 'inq_last_6mths', 'mths_since_recent_inq',\n",
        "       'total_bc_limit', 'tot_cur_bal', 'internal_score']\n",
        "dummy = X_train.columns.difference(numer)"
      ],
      "metadata": {
        "id": "wxxxO4ZgJ3XO"
      },
      "execution_count": 14,
      "outputs": []
    },
    {
      "cell_type": "code",
      "source": [
        "scaler = StandardScaler()\n",
        "X_train_num_scaled = scaler.fit_transform(X_train_smote[numer])\n",
        "X_val_num_scaled = scaler.transform(X_val[numer])"
      ],
      "metadata": {
        "id": "VYJSAUuYJ8X-"
      },
      "execution_count": 15,
      "outputs": []
    },
    {
      "cell_type": "code",
      "source": [
        "X_train_scaled1 = pd.DataFrame(X_train_num_scaled, columns=numer, index=X_train_smote.index)\n",
        "X_train_scaled = pd.concat([X_train_scaled1, X_train_smote[dummy]], axis=1)\n",
        "\n",
        "X_val_scaled1 = pd.DataFrame(X_val_num_scaled, columns=numer, index=X_val.index)\n",
        "X_val_scaled = pd.concat([X_val_scaled1, X_val[dummy]], axis=1)"
      ],
      "metadata": {
        "id": "AK2_9wEQKL3y"
      },
      "execution_count": 16,
      "outputs": []
    },
    {
      "cell_type": "code",
      "source": [
        "\n",
        "print(y_train_smote.value_counts())"
      ],
      "metadata": {
        "colab": {
          "base_uri": "https://localhost:8080/"
        },
        "id": "EKQic98avjby",
        "outputId": "45a44009-9de2-4b1c-cad7-4380e2f3f79f"
      },
      "execution_count": 17,
      "outputs": [
        {
          "output_type": "stream",
          "name": "stdout",
          "text": [
            "bad_flag\n",
            "0.0    47260\n",
            "1.0     9452\n",
            "Name: count, dtype: int64\n"
          ]
        }
      ]
    },
    {
      "cell_type": "code",
      "source": [
        "print(y_val.value_counts())"
      ],
      "metadata": {
        "colab": {
          "base_uri": "https://localhost:8080/"
        },
        "id": "y4Y2z9JXmb4B",
        "outputId": "e0ea5153-6330-47e7-f7f4-760e42cb59fb"
      },
      "execution_count": 18,
      "outputs": [
        {
          "output_type": "stream",
          "name": "stdout",
          "text": [
            "bad_flag\n",
            "0.0    31740\n",
            "1.0     2363\n",
            "Name: count, dtype: int64\n"
          ]
        }
      ]
    },
    {
      "cell_type": "code",
      "source": [
        "# Convert data to PyTorch tensors\n",
        "X_train_tensor = torch.tensor(X_train_scaled.values, dtype=torch.float32)\n",
        "y_train_tensor = torch.tensor(y_train_smote.values, dtype=torch.float32)\n",
        "X_val_tensor = torch.tensor(X_val_scaled.values, dtype=torch.float32)\n",
        "y_val_tensor = torch.tensor(y_val.values, dtype=torch.float32)"
      ],
      "metadata": {
        "id": "rRK60e4htFQ1"
      },
      "execution_count": 19,
      "outputs": []
    },
    {
      "cell_type": "code",
      "source": [
        "class NeuralNet(nn.Module):\n",
        "    def __init__(self, input_size, hidden_size1, hidden_size2, hidden_size3,  output_size):\n",
        "        super(NeuralNet, self).__init__()\n",
        "        self.fc1 = nn.Linear(input_size, hidden_size1)\n",
        "        self.relu = nn.ReLU()\n",
        "        self.fc2 = nn.Linear(hidden_size1, hidden_size2)\n",
        "        self.relu2 = nn.ReLU()\n",
        "        self.dropout1 = nn.Dropout(p=0.2)\n",
        "        self.fc3 = nn.Linear(hidden_size2, hidden_size3)\n",
        "        self.relu3 = nn.ReLU()\n",
        "        self.fc4 = nn.Linear(hidden_size3, output_size)\n",
        "\n",
        "\n",
        "    def forward(self, x):\n",
        "        x = self.fc1(x)\n",
        "        x = self.relu(x)\n",
        "        x = self.fc2(x)\n",
        "        x = self.relu2(x)\n",
        "        x = self.dropout1(x)\n",
        "        x = self.fc3(x)\n",
        "        x = self.relu3(x)\n",
        "        x = self.fc4(x)\n",
        "        return x\n",
        "\n",
        "# Model configuration\n",
        "input_size = X_train_tensor.shape[1]\n",
        "print(input_size)\n",
        "hidden_size1 = 128  # Configurable\n",
        "hidden_size2 = 256\n",
        "hidden_size3 = 64\n",
        "output_size = 1\n",
        "\n",
        "# Instantiate the model\n",
        "model = NeuralNet(input_size, hidden_size1, hidden_size2, hidden_size3, output_size)"
      ],
      "metadata": {
        "id": "-9XeZuojtFTS",
        "colab": {
          "base_uri": "https://localhost:8080/"
        },
        "outputId": "2be77c69-7933-429a-face-fbcd3d002864"
      },
      "execution_count": 20,
      "outputs": [
        {
          "output_type": "stream",
          "name": "stdout",
          "text": [
            "29\n"
          ]
        }
      ]
    },
    {
      "cell_type": "code",
      "source": [
        "def init_weights(m):\n",
        "    if isinstance(m, nn.Linear):\n",
        "        # Xavier (Glorot) initialization for weights\n",
        "        nn.init.xavier_uniform_(m.weight)\n",
        "        # Initialize biases to zero\n",
        "        nn.init.zeros_(m.bias)"
      ],
      "metadata": {
        "id": "WmMvSJyKnR2-"
      },
      "execution_count": 21,
      "outputs": []
    },
    {
      "cell_type": "code",
      "source": [
        "model.apply(init_weights)"
      ],
      "metadata": {
        "colab": {
          "base_uri": "https://localhost:8080/"
        },
        "id": "QCGN_oqvnT74",
        "outputId": "f9095556-b8ee-404a-9750-8ac423cf536f"
      },
      "execution_count": 22,
      "outputs": [
        {
          "output_type": "execute_result",
          "data": {
            "text/plain": [
              "NeuralNet(\n",
              "  (fc1): Linear(in_features=29, out_features=128, bias=True)\n",
              "  (relu): ReLU()\n",
              "  (fc2): Linear(in_features=128, out_features=256, bias=True)\n",
              "  (relu2): ReLU()\n",
              "  (dropout1): Dropout(p=0.2, inplace=False)\n",
              "  (fc3): Linear(in_features=256, out_features=64, bias=True)\n",
              "  (relu3): ReLU()\n",
              "  (fc4): Linear(in_features=64, out_features=1, bias=True)\n",
              ")"
            ]
          },
          "metadata": {},
          "execution_count": 22
        }
      ]
    },
    {
      "cell_type": "code",
      "source": [
        "\n",
        "\n",
        "epochs = 200  # Configurable\n",
        "batch_size = 32\n",
        "clip_value = 1.0\n",
        "# Loss function and optimizer\n",
        "# criterion = nn.BCELoss()  # Binary Cross-Entropy Loss\n",
        "pos_weight = torch.tensor([47260 / 9452], dtype=torch.float)\n",
        "criterion = nn.BCEWithLogitsLoss(pos_weight=pos_weight)  # weighted Binary Cross-Entropy Loss\n",
        "# criterion = FocalLoss(alpha=0.25, gamma=2.0, reduction='mean')\n",
        "optimizer = optim.Adam(model.parameters(), lr=0.001, weight_decay=1e-5)\n",
        "scheduler = torch.optim.lr_scheduler.ReduceLROnPlateau(\n",
        "    optimizer, mode='max', factor=0.5, patience=5, verbose=True\n",
        ")"
      ],
      "metadata": {
        "id": "J4vQsWslL1SL",
        "colab": {
          "base_uri": "https://localhost:8080/"
        },
        "outputId": "32e47ba9-4605-4c72-956a-123b0581e421"
      },
      "execution_count": 23,
      "outputs": [
        {
          "output_type": "stream",
          "name": "stderr",
          "text": [
            "/usr/local/lib/python3.10/dist-packages/torch/optim/lr_scheduler.py:62: UserWarning: The verbose parameter is deprecated. Please use get_last_lr() to access the learning rate.\n",
            "  warnings.warn(\n"
          ]
        }
      ]
    },
    {
      "cell_type": "code",
      "source": [
        "patience = 10  # Number of epochs with no improvement to wait\n",
        "early_stop_counter = 0"
      ],
      "metadata": {
        "id": "KFj-f6bHnkCn"
      },
      "execution_count": 24,
      "outputs": []
    },
    {
      "cell_type": "code",
      "source": [
        "from sklearn.metrics import f1_score, recall_score, precision_score\n",
        "best_threshold = 0.5\n",
        "best_f1_score = 0.0\n",
        "\n",
        "for epoch in range(epochs):\n",
        "\n",
        "    model.train()\n",
        "    total_loss = 0.0\n",
        "    for i in range(0, len(X_train_tensor), batch_size):\n",
        "        # Get mini-batch\n",
        "        X_batch = X_train_tensor[i:i+batch_size]\n",
        "        y_batch = y_train_tensor[i:i+batch_size]\n",
        "\n",
        "        # Forward pass\n",
        "        outputs = model(X_batch).squeeze(dim = -1)\n",
        "        loss = criterion(outputs, y_batch)\n",
        "        total_loss += loss.item()\n",
        "        # print(\"Model output shape:\", outputs.shape)\n",
        "        # print(\"Target shape:\", y_batch.shape)\n",
        "        # Backward pass\n",
        "        optimizer.zero_grad()\n",
        "        loss.backward()\n",
        "        torch.nn.utils.clip_grad_norm_(model.parameters(), clip_value)\n",
        "\n",
        "        optimizer.step()\n",
        "\n",
        "    with torch.no_grad():\n",
        "        train_outputs = model(X_train_tensor).squeeze()\n",
        "        train_predictions = (train_outputs > 0.5).float()\n",
        "        train_accuracy = accuracy_score(y_train_tensor.numpy(), train_predictions.numpy())\n",
        "        train_f1 = f1_score(y_train_tensor.numpy(), train_predictions.numpy())\n",
        "        train_recall = recall_score(y_train_tensor.numpy(), train_predictions.numpy())\n",
        "        train_precision = precision_score(y_train_tensor.numpy(), train_predictions.numpy())\n",
        "\n",
        "    # Validation\n",
        "    model.eval()\n",
        "    with torch.no_grad():\n",
        "        val_outputs = model(X_val_tensor).squeeze()\n",
        "        val_loss = criterion(val_outputs, y_val_tensor)\n",
        "\n",
        "        # # Generate probabilities for validation\n",
        "        val_probabilities = torch.sigmoid(val_outputs).numpy()\n",
        "\n",
        "        # Search for the best threshold to maximize F1-score\n",
        "        thresholds = np.arange(0.1, 0.9, 0.01)\n",
        "        for threshold in thresholds:\n",
        "            val_predictions = (val_probabilities > threshold).astype(int)\n",
        "            current_f1 = f1_score(y_val_tensor.numpy(), val_predictions)\n",
        "\n",
        "            if current_f1 > best_f1_score:\n",
        "                best_f1_score = current_f1\n",
        "                best_threshold = threshold\n",
        "\n",
        "        # Apply the best threshold for current evaluation\n",
        "        val_predictions = (val_probabilities > best_threshold).astype(int)\n",
        "        val_accuracy = accuracy_score(y_val_tensor.numpy(), val_predictions)\n",
        "        val_f1 = f1_score(y_val_tensor.numpy(), val_predictions)\n",
        "        val_recall = recall_score(y_val_tensor.numpy(), val_predictions)\n",
        "        val_precision = precision_score(y_val_tensor.numpy(), val_predictions)\n",
        "    scheduler.step(val_f1)\n",
        "    # Log epoch results\n",
        "    print(f\"Epoch {epoch+1}/{epochs}, \"\n",
        "          f\"Loss: {total_loss / len(X_train_tensor):.4f}, Train Accuracy: {train_accuracy:.4f}, \"\n",
        "          f\"Train F1: {train_f1:.4f}, Train Recall: {train_recall:.4f}, Train Precision: {train_precision:.4f}, \"\n",
        "          f\"Val Loss: {val_loss.item():.4f}, Val Accuracy: {val_accuracy:.4f}, \"\n",
        "          f\"Val F1: {val_f1:.4f}, Val Recall: {val_recall:.4f}, Val Precision: {val_precision:.4f}, \"\n",
        "          f\"Best Threshold: {best_threshold:.2f}\")\n",
        "\n",
        "    if val_f1 >= best_f1_score:\n",
        "        best_f1_score = val_f1\n",
        "        torch.save(model.state_dict(), \"/content/drive/My Drive/Colab Notebooks/neural_net_model.pth\")\n",
        "        print(f\"Best model saved with F1-score: {val_f1:.4f}\")\n",
        "        early_stop_counter = 0  # Reset early stopping counter\n",
        "    else:\n",
        "        early_stop_counter += 1\n",
        "    # print(val_f1, best_f1_score, early_stop_counter)\n",
        "    # Check early stopping condition\n",
        "    if early_stop_counter >= patience:\n",
        "        print(f\"Early stopping triggered after {epoch+1} epochs!\")\n",
        "        break\n",
        "# Save the model\n",
        "torch.save(model.state_dict(), \"/content/drive/My Drive/Colab Notebooks/neural_net_model.pth\")"
      ],
      "metadata": {
        "colab": {
          "base_uri": "https://localhost:8080/"
        },
        "id": "pu2WiWOWKjty",
        "outputId": "a2f248e8-fea8-47f1-892b-06571a75f579"
      },
      "execution_count": 25,
      "outputs": [
        {
          "output_type": "stream",
          "name": "stdout",
          "text": [
            "Epoch 1/200, Loss: 0.0341, Train Accuracy: 0.7659, Train F1: 0.3192, Train Recall: 0.3293, Train Precision: 0.3098, Val Loss: 0.8002, Val Accuracy: 0.7652, Val F1: 0.2065, Val Recall: 0.4410, Val Precision: 0.1348, Best Threshold: 0.59\n",
            "Best model saved with F1-score: 0.2065\n",
            "Epoch 2/200, Loss: 0.0336, Train Accuracy: 0.7705, Train F1: 0.3257, Train Recall: 0.3326, Train Precision: 0.3191, Val Loss: 0.7904, Val Accuracy: 0.7569, Val F1: 0.2105, Val Recall: 0.4676, Val Precision: 0.1358, Best Threshold: 0.58\n",
            "Best model saved with F1-score: 0.2105\n",
            "Epoch 3/200, Loss: 0.0334, Train Accuracy: 0.7687, Train F1: 0.3394, Train Recall: 0.3565, Train Precision: 0.3238, Val Loss: 0.7908, Val Accuracy: 0.7482, Val F1: 0.2098, Val Recall: 0.4824, Val Precision: 0.1341, Best Threshold: 0.58\n",
            "Epoch 4/200, Loss: 0.0332, Train Accuracy: 0.7740, Train F1: 0.3384, Train Recall: 0.3468, Train Precision: 0.3304, Val Loss: 0.7794, Val Accuracy: 0.7492, Val F1: 0.2139, Val Recall: 0.4926, Val Precision: 0.1366, Best Threshold: 0.57\n",
            "Best model saved with F1-score: 0.2139\n",
            "Epoch 5/200, Loss: 0.0330, Train Accuracy: 0.7705, Train F1: 0.3483, Train Recall: 0.3680, Train Precision: 0.3307, Val Loss: 0.7839, Val Accuracy: 0.7450, Val F1: 0.2154, Val Recall: 0.5053, Val Precision: 0.1369, Best Threshold: 0.57\n",
            "Best model saved with F1-score: 0.2154\n",
            "Epoch 6/200, Loss: 0.0329, Train Accuracy: 0.7763, Train F1: 0.3518, Train Recall: 0.3644, Train Precision: 0.3401, Val Loss: 0.7782, Val Accuracy: 0.7782, Val F1: 0.2158, Val Recall: 0.4405, Val Precision: 0.1429, Best Threshold: 0.59\n",
            "Best model saved with F1-score: 0.2158\n",
            "Epoch 7/200, Loss: 0.0328, Train Accuracy: 0.7693, Train F1: 0.3653, Train Recall: 0.3984, Train Precision: 0.3373, Val Loss: 0.7857, Val Accuracy: 0.7605, Val F1: 0.2105, Val Recall: 0.4609, Val Precision: 0.1364, Best Threshold: 0.59\n",
            "Epoch 8/200, Loss: 0.0327, Train Accuracy: 0.7826, Train F1: 0.3560, Train Recall: 0.3606, Train Precision: 0.3516, Val Loss: 0.7669, Val Accuracy: 0.7848, Val F1: 0.2138, Val Recall: 0.4223, Val Precision: 0.1431, Best Threshold: 0.59\n",
            "Epoch 9/200, Loss: 0.0325, Train Accuracy: 0.7783, Train F1: 0.3650, Train Recall: 0.3824, Train Precision: 0.3491, Val Loss: 0.7734, Val Accuracy: 0.7733, Val F1: 0.2128, Val Recall: 0.4422, Val Precision: 0.1401, Best Threshold: 0.59\n",
            "Epoch 10/200, Loss: 0.0324, Train Accuracy: 0.7776, Train F1: 0.3740, Train Recall: 0.3986, Train Precision: 0.3522, Val Loss: 0.7756, Val Accuracy: 0.7685, Val F1: 0.2126, Val Recall: 0.4511, Val Precision: 0.1391, Best Threshold: 0.59\n",
            "Epoch 11/200, Loss: 0.0322, Train Accuracy: 0.7860, Train F1: 0.3725, Train Recall: 0.3811, Train Precision: 0.3642, Val Loss: 0.7688, Val Accuracy: 0.7839, Val F1: 0.2101, Val Recall: 0.4147, Val Precision: 0.1407, Best Threshold: 0.59\n",
            "Epoch 12/200, Loss: 0.0321, Train Accuracy: 0.7808, Train F1: 0.3834, Train Recall: 0.4088, Train Precision: 0.3609, Val Loss: 0.7756, Val Accuracy: 0.7744, Val F1: 0.2135, Val Recall: 0.4418, Val Precision: 0.1408, Best Threshold: 0.59\n",
            "Epoch 13/200, Loss: 0.0315, Train Accuracy: 0.7924, Train F1: 0.3892, Train Recall: 0.3967, Train Precision: 0.3819, Val Loss: 0.7721, Val Accuracy: 0.7877, Val F1: 0.2084, Val Recall: 0.4033, Val Precision: 0.1405, Best Threshold: 0.59\n",
            "Epoch 14/200, Loss: 0.0312, Train Accuracy: 0.7884, Train F1: 0.4023, Train Recall: 0.4272, Train Precision: 0.3801, Val Loss: 0.7791, Val Accuracy: 0.7760, Val F1: 0.2030, Val Recall: 0.4118, Val Precision: 0.1347, Best Threshold: 0.59\n",
            "Epoch 15/200, Loss: 0.0311, Train Accuracy: 0.7931, Train F1: 0.4036, Train Recall: 0.4199, Train Precision: 0.3884, Val Loss: 0.7799, Val Accuracy: 0.7825, Val F1: 0.2065, Val Recall: 0.4084, Val Precision: 0.1382, Best Threshold: 0.59\n",
            "Epoch 16/200, Loss: 0.0308, Train Accuracy: 0.7917, Train F1: 0.4194, Train Recall: 0.4514, Train Precision: 0.3916, Val Loss: 0.7887, Val Accuracy: 0.7730, Val F1: 0.2002, Val Recall: 0.4101, Val Precision: 0.1325, Best Threshold: 0.59\n",
            "Early stopping triggered after 16 epochs!\n"
          ]
        }
      ]
    },
    {
      "cell_type": "code",
      "source": [
        "model_path = \"/content/drive/My Drive/Colab Notebooks/neural_net_model.pth\"  # Path where your model was saved\n",
        "model.load_state_dict(torch.load(model_path))\n",
        "model.eval()"
      ],
      "metadata": {
        "colab": {
          "base_uri": "https://localhost:8080/"
        },
        "id": "XKwUx0FuVtlY",
        "outputId": "fe6324ea-0128-4d00-c0ab-1b81ff32ca20"
      },
      "execution_count": 26,
      "outputs": [
        {
          "output_type": "stream",
          "name": "stderr",
          "text": [
            "<ipython-input-26-1ffd2c3f3191>:2: FutureWarning: You are using `torch.load` with `weights_only=False` (the current default value), which uses the default pickle module implicitly. It is possible to construct malicious pickle data which will execute arbitrary code during unpickling (See https://github.com/pytorch/pytorch/blob/main/SECURITY.md#untrusted-models for more details). In a future release, the default value for `weights_only` will be flipped to `True`. This limits the functions that could be executed during unpickling. Arbitrary objects will no longer be allowed to be loaded via this mode unless they are explicitly allowlisted by the user via `torch.serialization.add_safe_globals`. We recommend you start setting `weights_only=True` for any use case where you don't have full control of the loaded file. Please open an issue on GitHub for any issues related to this experimental feature.\n",
            "  model.load_state_dict(torch.load(model_path))\n"
          ]
        },
        {
          "output_type": "execute_result",
          "data": {
            "text/plain": [
              "NeuralNet(\n",
              "  (fc1): Linear(in_features=29, out_features=128, bias=True)\n",
              "  (relu): ReLU()\n",
              "  (fc2): Linear(in_features=128, out_features=256, bias=True)\n",
              "  (relu2): ReLU()\n",
              "  (dropout1): Dropout(p=0.2, inplace=False)\n",
              "  (fc3): Linear(in_features=256, out_features=64, bias=True)\n",
              "  (relu3): ReLU()\n",
              "  (fc4): Linear(in_features=64, out_features=1, bias=True)\n",
              ")"
            ]
          },
          "metadata": {},
          "execution_count": 26
        }
      ]
    },
    {
      "cell_type": "markdown",
      "source": [
        "## use saved model to predict separated test dataset"
      ],
      "metadata": {
        "id": "LrHFEh1i8fOF"
      }
    },
    {
      "cell_type": "code",
      "source": [
        "# Preprocess X_test\n",
        "X_test_num_scaled = scaler.transform(X_test[numer])  # Only scale the numerical features\n",
        "X_test_scaled1 = pd.DataFrame(X_test_num_scaled, columns=numer, index=X_test.index)\n",
        "X_test_scaled = pd.concat([X_test_scaled1, X_test[dummy]], axis=1)\n",
        "\n",
        "# Convert to PyTorch tensor\n",
        "X_test_tensor = torch.tensor(X_test_scaled.values, dtype=torch.float32)\n",
        "y_test_tensor = torch.tensor(y_test.values, dtype=torch.float32)"
      ],
      "metadata": {
        "id": "ubpec1fYN0NM"
      },
      "execution_count": 27,
      "outputs": []
    },
    {
      "cell_type": "code",
      "source": [
        "with torch.no_grad():\n",
        "    test_outputs = model(X_test_tensor).squeeze()  # Raw logits\n",
        "\n",
        "# Convert logits to probabilities using sigmoid\n",
        "test_probabilities = torch.sigmoid(test_outputs).numpy()\n",
        "\n",
        "# Apply the best threshold for classification\n",
        "test_predictions = (test_probabilities > best_threshold).astype(int)"
      ],
      "metadata": {
        "id": "0NbhG-6SVqXP"
      },
      "execution_count": 28,
      "outputs": []
    },
    {
      "cell_type": "code",
      "source": [
        "test_accuracy = accuracy_score(y_test_tensor.numpy(), test_predictions)\n",
        "test_f1 = f1_score(y_test_tensor.numpy(), test_predictions)\n",
        "test_recall = recall_score(y_test_tensor.numpy(), test_predictions)\n",
        "test_precision = precision_score(y_test_tensor.numpy(), test_predictions)\n",
        "\n",
        "print(f\"Test Accuracy: {test_accuracy:.4f}\")\n",
        "print(f\"Test F1 Score: {test_f1:.4f}\")\n",
        "print(f\"Test Recall: {test_recall:.4f}\")\n",
        "print(f\"Test Precision: {test_precision:.4f}\")"
      ],
      "metadata": {
        "colab": {
          "base_uri": "https://localhost:8080/"
        },
        "id": "j53QkV4bVz45",
        "outputId": "465b4cd3-ca13-4261-b9b5-566e901e2f6b"
      },
      "execution_count": 29,
      "outputs": [
        {
          "output_type": "stream",
          "name": "stdout",
          "text": [
            "Test Accuracy: 0.7801\n",
            "Test F1 Score: 0.2091\n",
            "Test Recall: 0.4196\n",
            "Test Precision: 0.1393\n"
          ]
        }
      ]
    },
    {
      "cell_type": "code",
      "source": [
        "from sklearn.metrics import roc_auc_score, roc_curve\n",
        "# Calculate AUC\n",
        "test_auc = roc_auc_score(y_test, test_predictions)\n",
        "print(f\"AUC on Test Dataset: {test_auc:.4f}\")\n",
        "\n",
        "# Calculate ROC Curve\n",
        "fpr, tpr, thresholds = roc_curve(y_test, test_predictions)\n",
        "\n",
        "# Plot ROC Curve\n",
        "plt.figure(figsize=(8, 6))\n",
        "plt.plot(fpr, tpr, label=f\"ROC Curve (AUC = {test_auc:.4f})\", color=\"blue\")\n",
        "plt.plot([0, 1], [0, 1], linestyle=\"--\", color=\"gray\", label=\"Random Chance\")\n",
        "plt.xlabel(\"False Positive Rate\")\n",
        "plt.ylabel(\"True Positive Rate\")\n",
        "plt.title(\"ROC Curve\")\n",
        "plt.legend(loc=\"lower right\")\n",
        "plt.grid(alpha=0.3)\n",
        "plt.show()"
      ],
      "metadata": {
        "colab": {
          "base_uri": "https://localhost:8080/",
          "height": 581
        },
        "id": "FHqCtDLj8s2U",
        "outputId": "8c9c455f-a8d2-419d-83e6-37b111bfd317"
      },
      "execution_count": 30,
      "outputs": [
        {
          "output_type": "stream",
          "name": "stdout",
          "text": [
            "AUC on Test Dataset: 0.6133\n"
          ]
        },
        {
          "output_type": "display_data",
          "data": {
            "text/plain": [
              "<Figure size 800x600 with 1 Axes>"
            ],
            "image/png": "[encoded data removed]"
          },
          "metadata": {}
        }
      ]
    },
    {
      "cell_type": "code",
      "source": [
        "def remove_outliers_iqr(df, columns, factor=1.5):\n",
        "    df_cleaned = df.copy()  # Make a copy of the DataFrame to avoid modifying original data\n",
        "\n",
        "    for column in columns:\n",
        "        if column in df_cleaned.columns:\n",
        "            Q1 = df_cleaned[column].quantile(0.25)  # 25th percentile\n",
        "            Q3 = df_cleaned[column].quantile(0.75)  # 75th percentile\n",
        "            IQR = Q3 - Q1\n",
        "\n",
        "            lower_bound = Q1 - factor * IQR\n",
        "            upper_bound = Q3 + factor * IQR\n",
        "\n",
        "            # Filter rows within the IQR bounds\n",
        "            df_cleaned[column] = df_cleaned[column].clip(lower=lower_bound, upper=upper_bound)\n",
        "\n",
        "        else:\n",
        "            print(f\"Warning: Column '{column}' not found in DataFrame.\")\n",
        "\n",
        "    return df_cleaned"
      ],
      "metadata": {
        "id": "NkNuXAOSJfCP"
      },
      "execution_count": 31,
      "outputs": []
    },
    {
      "cell_type": "code",
      "source": [
        "from torch.utils.data import DataLoader, TensorDataset"
      ],
      "metadata": {
        "id": "guXxQakUiv-u"
      },
      "execution_count": 32,
      "outputs": []
    },
    {
      "cell_type": "code",
      "source": [
        "\n",
        "test_data = pd.read_csv(\"/content/drive/My Drive/Colab Notebooks/testing_loan_data.csv\")"
      ],
      "metadata": {
        "colab": {
          "base_uri": "https://localhost:8080/"
        },
        "id": "ij4QqfkSkTdZ",
        "outputId": "0c2d24a9-7db9-43a1-ed71-53c75d934af2"
      },
      "execution_count": 51,
      "outputs": [
        {
          "output_type": "stream",
          "name": "stderr",
          "text": [
            "<ipython-input-51-57f9f7af733e>:1: DtypeWarning: Columns (8) have mixed types. Specify dtype option on import or set low_memory=False.\n",
            "  test_data = pd.read_csv(\"/content/drive/My Drive/Colab Notebooks/testing_loan_data.csv\")\n"
          ]
        }
      ]
    },
    {
      "cell_type": "code",
      "source": [
        "def preprocess_test_data(test_data, scaler, numer):\n",
        "    \"\"\"\n",
        "    Preprocess the test dataset by performing cleaning, encoding, and scaling operations.\n",
        "\n",
        "    Parameters:\n",
        "    - test_data (pd.DataFrame): The raw test dataset.\n",
        "    - scaler (sklearn.preprocessing.StandardScaler): Fitted scaler for numerical feature scaling.\n",
        "    - numer (list): List of numerical column names.\n",
        "\n",
        "    Returns:\n",
        "    - pd.DataFrame: Preprocessed and scaled test dataset.\n",
        "    \"\"\"\n",
        "    # Drop unnecessary columns\n",
        "    miscol = ['id', 'application_approved_flag', 'tot_hi_cred_lim',\n",
        "              'loan_amnt', 'bc_util', 'desc', 'member_id', 'mths_since_last_major_derog']\n",
        "    test_data.drop(miscol, axis=1, inplace=True, errors='ignore')\n",
        "\n",
        "    # Process 'term' column\n",
        "    test_data['term'] = test_data['term'].str.extract(r'(\\d+)').astype(float)\n",
        "\n",
        "    # Process 'emp_length' column\n",
        "    test_data['emp_length'] = test_data['emp_length'].str.extract(r'(\\d+)').astype(float)\n",
        "    test_data['emp_length'] = test_data['emp_length'].fillna(0)  # Assume missing values as 0 (less than a year)\n",
        "\n",
        "    # Process percentage columns\n",
        "    percentage_columns = ['int_rate', 'revol_util']\n",
        "    for col in percentage_columns:\n",
        "        if col in test_data.columns and test_data[col].dtype == 'object':\n",
        "            test_data[col] = test_data[col].str.replace('%', '').astype(float) / 100\n",
        "\n",
        "    # Fill missing values\n",
        "    test_data['mths_since_recent_inq'] = test_data['mths_since_recent_inq'].fillna(0)\n",
        "\n",
        "    columns_to_impute = ['percent_bc_gt_75', 'total_bc_limit', 'tot_cur_bal', 'revol_util']\n",
        "    for col in columns_to_impute:\n",
        "        test_data[col] = test_data[col].fillna(test_data[col].median())\n",
        "\n",
        "    # Handle categorical variables\n",
        "    test_data['home_ownership'] = test_data['home_ownership'].replace(['OTHER', 'NONE'], 'OTHER')\n",
        "    categorical_columns = ['purpose', 'home_ownership']\n",
        "    test_data_encoded = pd.get_dummies(test_data, columns=categorical_columns, drop_first=False, dtype=int)\n",
        "\n",
        "    # Remove outliers\n",
        "    columns_to_check = ['term', 'int_rate', 'emp_length', 'annual_inc', 'percent_bc_gt_75',\n",
        "                        'dti', 'inq_last_6mths', 'mths_since_recent_inq',\n",
        "                        'total_bc_limit', 'tot_cur_bal', 'internal_score']\n",
        "    cleaned_data = remove_outliers_iqr(test_data_encoded, columns_to_check)\n",
        "\n",
        "    # Scale numerical columns\n",
        "    dummy = cleaned_data.columns.difference(numer)\n",
        "    cleaned_data_num_scaled = scaler.transform(cleaned_data[numer])\n",
        "    cleaned_data_scaled1 = pd.DataFrame(cleaned_data_num_scaled, columns=numer, index=cleaned_data.index)\n",
        "    cleaned_data_scaled = pd.concat([cleaned_data_scaled1, cleaned_data[dummy]], axis=1)\n",
        "\n",
        "    return cleaned_data_scaled"
      ],
      "metadata": {
        "id": "ZQD0ZZjCw8j0"
      },
      "execution_count": 52,
      "outputs": []
    },
    {
      "cell_type": "code",
      "source": [
        "processed_test_data = preprocess_test_data(test_data, scaler, numer)"
      ],
      "metadata": {
        "id": "6bTXaMDnw_Xk"
      },
      "execution_count": 53,
      "outputs": []
    },
    {
      "cell_type": "code",
      "source": [
        "# Convert test data to PyTorch tensors\n",
        "X_test_tensor = torch.tensor(processed_test_data.values, dtype=torch.float32)\n",
        "\n",
        "# Create DataLoader for batch processing\n",
        "test_loader = DataLoader(TensorDataset(X_test_tensor), batch_size=32, shuffle=False)"
      ],
      "metadata": {
        "id": "9hrRCvc5xYQR"
      },
      "execution_count": 54,
      "outputs": []
    },
    {
      "cell_type": "code",
      "source": [
        "all_predictions = []\n",
        "\n",
        "with torch.no_grad():\n",
        "    for inputs in test_loader:\n",
        "        inputs = inputs[0]  # Extract inputs from TensorDataset\n",
        "        outputs = model(inputs).squeeze()  # Forward pass\n",
        "        probabilities = torch.sigmoid(outputs)  # Convert logits to probabilities\n",
        "\n",
        "        # Apply the best threshold\n",
        "        predictions = (probabilities > best_threshold).int()\n",
        "\n",
        "        all_predictions.extend(predictions.tolist())\n",
        "\n",
        "# Insert predictions into the test dataset\n",
        "test_data[\"bad_flag\"] = all_predictions\n",
        "\n",
        "# Save the updated test dataset\n",
        "test_data.to_csv(\"/content/drive/My Drive/Colab Notebooks/test_predictions_filled.csv\", index=False)\n",
        "\n",
        "print(\"Predictions saved successfully!\")"
      ],
      "metadata": {
        "colab": {
          "base_uri": "https://localhost:8080/"
        },
        "id": "bfrLzBrfxbMG",
        "outputId": "735e1dae-b386-40de-e03e-076e4a269316"
      },
      "execution_count": 55,
      "outputs": [
        {
          "output_type": "stream",
          "name": "stdout",
          "text": [
            "Predictions saved successfully!\n"
          ]
        }
      ]
    },
    {
      "cell_type": "code",
      "source": [],
      "metadata": {
        "id": "3zPzvumnjWtL"
      },
      "execution_count": null,
      "outputs": []
    }
  ]
}